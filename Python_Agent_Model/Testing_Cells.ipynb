{
 "cells": [
  {
   "cell_type": "code",
   "execution_count": 316,
   "metadata": {},
   "outputs": [
    {
     "name": "stdout",
     "output_type": "stream",
     "text": [
      "True\n"
     ]
    }
   ],
   "source": [
    "import random\n",
    "from cells import Cell\n",
    "from bp_class import *\n",
    "from short_DNA_region_class import *\n",
    "from chromosome_class import *\n",
    "from sister_chromatids import *\n",
    "import dna_functions\n",
    "import sister_chromosome_functions\n",
    "import cell_functions\n",
    "import uuid\n",
    "import save_cells\n",
    "\n",
    "m = dna_functions.random_bp()\n",
    "n = dna_functions.random_bp()\n",
    "print(m == m)\n",
    "\n",
    "#random.choice([\"a\", \"c\", \"g\", \"t\"])\n",
    "\n",
    "m = Bp()\n"
   ]
  },
  {
   "cell_type": "code",
   "execution_count": null,
   "metadata": {},
   "outputs": [],
   "source": []
  },
  {
   "cell_type": "code",
   "execution_count": null,
   "metadata": {},
   "outputs": [],
   "source": []
  },
  {
   "cell_type": "markdown",
   "metadata": {},
   "source": [
    "Alright We have our librarys for developing a cell with chromosomes.   Now lets build our first cell.  This cell will need a full gambit of chromosomes!  And these chromosomes need genes, and those genes need basepairs!!"
   ]
  },
  {
   "cell_type": "code",
   "execution_count": 317,
   "metadata": {},
   "outputs": [],
   "source": [
    "first_chromo = dna_functions.make_baisc_chromosome(3000, 120)\n",
    "first_sister_chromo = sister_chromosome_functions.basic_sister_chromatids_from_chromo(first_chromo, 3)\n",
    "\n"
   ]
  },
  {
   "cell_type": "code",
   "execution_count": 318,
   "metadata": {},
   "outputs": [],
   "source": [
    "cell_params = [\n",
    "    {\"chromo_length\" : 3000, \"ave_gene_length\" : 120, \"chromo_count\" : 2},\n",
    "    {\"chromo_length\" : 4000, \"ave_gene_length\" : 200, \"chromo_count\" : 3},\n",
    "    {\"chromo_length\" : 1000, \"ave_gene_length\" : 130, \"chromo_count\" : 1},\n",
    "    {\"chromo_length\" : 5000, \"ave_gene_length\" : 40, \"chromo_count\" : 6}\n",
    "]\n",
    "first_cell = cell_functions.create_basic_cell(cell_params, uuid.uuid1())"
   ]
  },
  {
   "cell_type": "markdown",
   "metadata": {},
   "source": [
    "Okay thus far we can create a cell and replicate it!  Kinda like a generation.   The cell is an exact copy of the parent cell.  There is no mutation capability yet or recombination.  However we can change the CCN of different chromosomes.    First though lets test out our cell and see if we can make a few generations and record those data in an effective way!"
   ]
  },
  {
   "cell_type": "code",
   "execution_count": 324,
   "metadata": {},
   "outputs": [
    {
     "name": "stdout",
     "output_type": "stream",
     "text": [
      "Created file '/Users/canonmallory/Library/Mobile Documents/com~apple~CloudDocs/Documents/School/UCSB/Briggs Lab/CCNV/Genetics_Models/Data_logs/03598db4-0741-11ef-b8cc-3e22fb53c6c5.csv'\n",
      "Generation: 0 Number_of_Members: 1\n",
      "Generation: 1 Number_of_Members: 3\n",
      "Generation: 2 Number_of_Members: 9\n",
      "Generation: 3 Number_of_Members: 27\n",
      "Generation: 4 Number_of_Members: 81\n",
      "Generation: 5 Number_of_Members: 243\n",
      "364\n",
      "Complete\n"
     ]
    }
   ],
   "source": [
    "generations = 5\n",
    "replications_per_generation = 3\n",
    "filename = \"/Users/canonmallory/Library/Mobile Documents/com~apple~CloudDocs/Documents/Local_Only.nosync/School/Briggs Lab/CCNV/Genetic Models/Testing_Logs/\" + str(uuid.uuid1()) + \".csv\"\n",
    "\n",
    "current_generation = [first_cell]\n",
    "total_cells = len(current_generation)\n",
    "#Must write the first generation down (fence post problem)\n",
    "save_cells.write_generation_to_csv(current_generation, filename)\n",
    "print(\"Generation: 0\" + \" Number_of_Members: \" + str(len(current_generation)))\n",
    "for  i in range(generations):\n",
    "    new_generation = []\n",
    "    \n",
    "    # This is the start of the slow steop\n",
    "    for cel in current_generation:\n",
    "        new_generation += cell_functions.multiple_duplicates_with_UUID(cel, replications_per_generation)\n",
    "    #This is the end of the slow step\n",
    "\n",
    "\n",
    "    # THis is where we will mutate/recombinate/CCNV the new generation!\n",
    "    cell_functions.mutate_cells(new_generation)\n",
    "    # THis is when we stop and save the new generation!\n",
    "\n",
    "\n",
    "    save_cells.write_generation_to_csv(new_generation, filename)\n",
    "    print(\"Generation: \" + str(i + 1) + \" Number_of_Members: \" + str(len(new_generation)))\n",
    "    total_cells += len(new_generation)\n",
    "    current_generation = new_generation\n",
    "print(total_cells)\n",
    "print(\"Complete\")"
   ]
  },
  {
   "cell_type": "code",
   "execution_count": null,
   "metadata": {},
   "outputs": [],
   "source": []
  }
 ],
 "metadata": {
  "kernelspec": {
   "display_name": "Python 3",
   "language": "python",
   "name": "python3"
  },
  "language_info": {
   "codemirror_mode": {
    "name": "ipython",
    "version": 3
   },
   "file_extension": ".py",
   "mimetype": "text/x-python",
   "name": "python",
   "nbconvert_exporter": "python",
   "pygments_lexer": "ipython3",
   "version": "3.9.6"
  }
 },
 "nbformat": 4,
 "nbformat_minor": 2
}
