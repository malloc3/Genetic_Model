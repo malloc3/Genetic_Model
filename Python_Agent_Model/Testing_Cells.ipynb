{
 "cells": [
  {
   "cell_type": "code",
   "execution_count": 111,
   "metadata": {},
   "outputs": [
    {
     "name": "stdout",
     "output_type": "stream",
     "text": [
      "True\n"
     ]
    }
   ],
   "source": [
    "import random\n",
    "from cells import Cell\n",
    "from bp_class import *\n",
    "from short_DNA_region_class import *\n",
    "from chromosome_class import *\n",
    "from sister_chromatids import *\n",
    "import dna_functions\n",
    "\n",
    "m = dna_functions.random_bp()\n",
    "n = dna_functions.random_bp()\n",
    "print(m == m)\n",
    "\n",
    "#random.choice([\"a\", \"c\", \"g\", \"t\"])\n",
    "\n"
   ]
  },
  {
   "cell_type": "code",
   "execution_count": null,
   "metadata": {},
   "outputs": [],
   "source": []
  }
 ],
 "metadata": {
  "kernelspec": {
   "display_name": "Python 3",
   "language": "python",
   "name": "python3"
  },
  "language_info": {
   "codemirror_mode": {
    "name": "ipython",
    "version": 3
   },
   "file_extension": ".py",
   "mimetype": "text/x-python",
   "name": "python",
   "nbconvert_exporter": "python",
   "pygments_lexer": "ipython3",
   "version": "3.9.6"
  }
 },
 "nbformat": 4,
 "nbformat_minor": 2
}
