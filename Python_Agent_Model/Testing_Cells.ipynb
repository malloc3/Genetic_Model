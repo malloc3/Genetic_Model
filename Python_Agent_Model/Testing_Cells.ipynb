{
 "cells": [
  {
   "cell_type": "code",
   "execution_count": 13,
   "metadata": {},
   "outputs": [],
   "source": [
    "# It is quite frustrating but VS code wont reload imports without these comments\n",
    "%reload_ext autoreload\n",
    "%autoreload 2\n",
    "# You may could remove them... Not sure.\n",
    "\n",
    "import random\n",
    "from cells import *\n",
    "from bp_class import *\n",
    "from short_DNA_region_class import *\n",
    "from chromosome_class import *\n",
    "from sister_chromatids import *\n",
    "from enum import Enum\n",
    "import dna_functions\n",
    "import sister_chromosome_functions\n",
    "import cell_functions\n",
    "import uuid\n",
    "import save_cells\n",
    "import numpy as np\n",
    "import pandas as pd\n",
    "import matplotlib.pyplot as plt\n",
    "from tqdm import tqdm\n",
    "import datetime\n",
    "import warnings\n",
    "\n",
    "\n",
    "# This function is VERY specific to this script.   It is faster to not always make new cells and instead just \n",
    "#  \"Pretend\" that we made a new cell by spoofing an \"old\" cell as a new cell.  This means that we neeed to  update\n",
    "#  all the \"Parent\" and id information.\n",
    "def propagate_existing_cell_as_new_cell(cel):\n",
    "    # Updates the parent cell to look like a new cell and adds it to the new_generation\n",
    "    # TOD THis will need to be updated so it changes all the IDs etc throughout the CELL to a new id.\n",
    "    # Also needs to clear the recombination events tracker in all the chromosomes\n",
    "    cel_id = cel.id #The current ID that will be changed and used as the parent\n",
    "    cel_new_id = uuid.uuid1() # The new id that will replace the old ID\n",
    "    cel.id = cel_new_id\n",
    "    cel.parent = cel_id\n",
    "    for sis_chromo in cel.sister_chromatids:\n",
    "        old_sis_chromo_id = sis_chromo.id\n",
    "        new_sis_choma_id = uuid.uuid1()\n",
    "        sis_chromo.id = new_sis_choma_id\n",
    "        sis_chromo.parent = old_sis_chromo_id\n",
    "        for chromo in sis_chromo.chromosomes:\n",
    "            old_chromo_id = chromo.id\n",
    "            new_chromo_id =uuid.uuid1()\n",
    "            chromo.id = new_chromo_id\n",
    "            chromo.parent = old_chromo_id\n",
    "            chromo.recombination = None # Need to reset the chromosome recombination tracker\n",
    "            for g in chromo.genes:\n",
    "                old_g_id = g.id\n",
    "                new_g_id = uuid.uuid1()\n",
    "                g.id = new_g_id\n",
    "                g.parent = old_g_id\n",
    "\n",
    "\n",
    "    return(cel)\n",
    "\n"
   ]
  },
  {
   "cell_type": "markdown",
   "metadata": {},
   "source": [
    "# TODO\n",
    "1. CHANGE THE mutate and recombination protocols to accept a math function as the probability thingy\n",
    "2. Incorporate the Gene conversion and Recombination stuff as discussed with Cherie\n",
    "3. Think about population size management\n",
    "    4. Make it so we \"modify\" the cells in place instead of generating new ones each time"
   ]
  },
  {
   "cell_type": "code",
   "execution_count": null,
   "metadata": {},
   "outputs": [],
   "source": []
  },
  {
   "cell_type": "markdown",
   "metadata": {},
   "source": [
    "Alright We have our librarys for developing a cell with chromosomes.   Now lets build our first cell.  This cell will need a full gambit of chromosomes!  And these chromosomes need genes, and those genes need basepairs!!"
   ]
  },
  {
   "cell_type": "code",
   "execution_count": 14,
   "metadata": {},
   "outputs": [],
   "source": [
    "#first_chromo = dna_functions.make_baisc_chromosome(3000, 120)\n",
    "#first_sister_chromo = sister_chromosome_functions.basic_sister_chromatids_from_chromo(first_chromo, 3)"
   ]
  },
  {
   "cell_type": "code",
   "execution_count": 15,
   "metadata": {},
   "outputs": [],
   "source": [
    "cell_params = [\n",
    "    {\"chromo_length\" : 3000, \"ave_gene_length\" : 120, \"chromo_count\" : 2},\n",
    "    {\"chromo_length\" : 4000, \"ave_gene_length\" : 200, \"chromo_count\" : 3},\n",
    "    {\"chromo_length\" : 1000, \"ave_gene_length\" : 130, \"chromo_count\" : 1},\n",
    "    {\"chromo_length\" : 5000, \"ave_gene_length\" : 40, \"chromo_count\" : 6}\n",
    "]\n",
    "first_cell = cell_functions.create_basic_cell(cell_params, uuid.uuid1(), generation = 0)"
   ]
  },
  {
   "cell_type": "markdown",
   "metadata": {},
   "source": [
    "Okay thus far we can create a cell and replicate it!  Kinda like a generation.   The cell is an exact copy of the parent cell.  There is no mutation capability yet or recombination.  However we can change the CCN of different chromosomes.    First though lets test out our cell and see if we can make a few generations and record those data in an effective way!"
   ]
  },
  {
   "cell_type": "markdown",
   "metadata": {},
   "source": []
  },
  {
   "cell_type": "code",
   "execution_count": 24,
   "metadata": {},
   "outputs": [
    {
     "name": "stdout",
     "output_type": "stream",
     "text": [
      "Created file '/Users/canonmallory/Library/Mobile Documents/com~apple~CloudDocs/Documents/Local_Only.nosync/School/Briggs Lab/CCNV/Genetic Models/Testing_Logs/3aaa5016-0f28-11ef-b312-acde48001122.csv'\n",
      "732\n",
      "17\n",
      "['Strain_ID', 'Parent_ID', 'Generation', 'number_of_chromatids', 'chromatid_number', 'CC_Number', 'chromatid_id', 'chromatid_parent', 'chromosome_id', 'chromosome_parent', 'chromsome_recombinations', 'chromosome_length', 'chromo_num_genes', 'gene_id', 'gene_parent', 'gene_position', 'Sequence_str']\n"
     ]
    },
    {
     "name": "stderr",
     "output_type": "stream",
     "text": [
      "  0%|          | 0/10 [00:00<?, ?it/s]"
     ]
    },
    {
     "name": "stdout",
     "output_type": "stream",
     "text": [
      "6106\n",
      "17\n",
      "['Strain_ID', 'Parent_ID', 'Generation', 'number_of_chromatids', 'chromatid_number', 'CC_Number', 'chromatid_id', 'chromatid_parent', 'chromosome_id', 'chromosome_parent', 'chromsome_recombinations', 'chromosome_length', 'chromo_num_genes', 'gene_id', 'gene_parent', 'gene_position', 'Sequence_str']\n"
     ]
    },
    {
     "name": "stderr",
     "output_type": "stream",
     "text": [
      " 10%|█         | 1/10 [00:00<00:08,  1.12it/s]"
     ]
    },
    {
     "name": "stdout",
     "output_type": "stream",
     "text": [
      "48325\n",
      "17\n",
      "['Strain_ID', 'Parent_ID', 'Generation', 'number_of_chromatids', 'chromatid_number', 'CC_Number', 'chromatid_id', 'chromatid_parent', 'chromosome_id', 'chromosome_parent', 'chromsome_recombinations', 'chromosome_length', 'chromo_num_genes', 'gene_id', 'gene_parent', 'gene_position', 'Sequence_str']\n"
     ]
    },
    {
     "name": "stderr",
     "output_type": "stream",
     "text": [
      " 20%|██        | 2/10 [00:07<00:34,  4.32s/it]"
     ]
    },
    {
     "name": "stdout",
     "output_type": "stream",
     "text": [
      "388345\n",
      "17\n",
      "['Strain_ID', 'Parent_ID', 'Generation', 'number_of_chromatids', 'chromatid_number', 'CC_Number', 'chromatid_id', 'chromatid_parent', 'chromosome_id', 'chromosome_parent', 'chromsome_recombinations', 'chromosome_length', 'chromo_num_genes', 'gene_id', 'gene_parent', 'gene_position', 'Sequence_str']\n"
     ]
    },
    {
     "name": "stderr",
     "output_type": "stream",
     "text": [
      " 30%|███       | 3/10 [01:00<03:03, 26.27s/it]"
     ]
    },
    {
     "name": "stdout",
     "output_type": "stream",
     "text": [
      "393688\n",
      "17\n",
      "['Strain_ID', 'Parent_ID', 'Generation', 'number_of_chromatids', 'chromatid_number', 'CC_Number', 'chromatid_id', 'chromatid_parent', 'chromosome_id', 'chromosome_parent', 'chromsome_recombinations', 'chromosome_length', 'chromo_num_genes', 'gene_id', 'gene_parent', 'gene_position', 'Sequence_str']\n"
     ]
    },
    {
     "name": "stderr",
     "output_type": "stream",
     "text": [
      " 40%|████      | 4/10 [01:35<03:00, 30.08s/it]"
     ]
    },
    {
     "name": "stdout",
     "output_type": "stream",
     "text": [
      "402213\n",
      "17\n",
      "['Strain_ID', 'Parent_ID', 'Generation', 'number_of_chromatids', 'chromatid_number', 'CC_Number', 'chromatid_id', 'chromatid_parent', 'chromosome_id', 'chromosome_parent', 'chromsome_recombinations', 'chromosome_length', 'chromo_num_genes', 'gene_id', 'gene_parent', 'gene_position', 'Sequence_str']\n"
     ]
    },
    {
     "name": "stderr",
     "output_type": "stream",
     "text": [
      " 50%|█████     | 5/10 [02:12<02:41, 32.39s/it]"
     ]
    },
    {
     "name": "stdout",
     "output_type": "stream",
     "text": [
      "405832\n",
      "17\n",
      "['Strain_ID', 'Parent_ID', 'Generation', 'number_of_chromatids', 'chromatid_number', 'CC_Number', 'chromatid_id', 'chromatid_parent', 'chromosome_id', 'chromosome_parent', 'chromsome_recombinations', 'chromosome_length', 'chromo_num_genes', 'gene_id', 'gene_parent', 'gene_position', 'Sequence_str']\n"
     ]
    },
    {
     "name": "stderr",
     "output_type": "stream",
     "text": [
      " 60%|██████    | 6/10 [02:48<02:15, 33.79s/it]"
     ]
    },
    {
     "name": "stdout",
     "output_type": "stream",
     "text": [
      "410206\n",
      "17\n",
      "['Strain_ID', 'Parent_ID', 'Generation', 'number_of_chromatids', 'chromatid_number', 'CC_Number', 'chromatid_id', 'chromatid_parent', 'chromosome_id', 'chromosome_parent', 'chromsome_recombinations', 'chromosome_length', 'chromo_num_genes', 'gene_id', 'gene_parent', 'gene_position', 'Sequence_str']\n"
     ]
    },
    {
     "name": "stderr",
     "output_type": "stream",
     "text": [
      " 70%|███████   | 7/10 [03:28<01:46, 35.58s/it]"
     ]
    },
    {
     "name": "stdout",
     "output_type": "stream",
     "text": [
      "412464\n",
      "17\n",
      "['Strain_ID', 'Parent_ID', 'Generation', 'number_of_chromatids', 'chromatid_number', 'CC_Number', 'chromatid_id', 'chromatid_parent', 'chromosome_id', 'chromosome_parent', 'chromsome_recombinations', 'chromosome_length', 'chromo_num_genes', 'gene_id', 'gene_parent', 'gene_position', 'Sequence_str']\n"
     ]
    },
    {
     "name": "stderr",
     "output_type": "stream",
     "text": [
      " 80%|████████  | 8/10 [04:08<01:13, 36.95s/it]"
     ]
    },
    {
     "name": "stdout",
     "output_type": "stream",
     "text": [
      "414037\n",
      "17\n",
      "['Strain_ID', 'Parent_ID', 'Generation', 'number_of_chromatids', 'chromatid_number', 'CC_Number', 'chromatid_id', 'chromatid_parent', 'chromosome_id', 'chromosome_parent', 'chromsome_recombinations', 'chromosome_length', 'chromo_num_genes', 'gene_id', 'gene_parent', 'gene_position', 'Sequence_str']\n"
     ]
    },
    {
     "name": "stderr",
     "output_type": "stream",
     "text": [
      " 90%|█████████ | 9/10 [04:45<00:36, 36.98s/it]"
     ]
    },
    {
     "name": "stdout",
     "output_type": "stream",
     "text": [
      "419648\n",
      "17\n",
      "['Strain_ID', 'Parent_ID', 'Generation', 'number_of_chromatids', 'chromatid_number', 'CC_Number', 'chromatid_id', 'chromatid_parent', 'chromosome_id', 'chromosome_parent', 'chromsome_recombinations', 'chromosome_length', 'chromo_num_genes', 'gene_id', 'gene_parent', 'gene_position', 'Sequence_str']\n"
     ]
    },
    {
     "name": "stderr",
     "output_type": "stream",
     "text": [
      "100%|██████████| 10/10 [05:25<00:00, 32.53s/it]"
     ]
    },
    {
     "name": "stdout",
     "output_type": "stream",
     "text": [
      "Complete\n"
     ]
    },
    {
     "name": "stderr",
     "output_type": "stream",
     "text": [
      "\n"
     ]
    }
   ],
   "source": [
    "generations = 10\n",
    "replications_per_generation = 8\n",
    "filename = \"/Users/canonmallory/Library/Mobile Documents/com~apple~CloudDocs/Documents/Local_Only.nosync/School/Briggs Lab/CCNV/Genetic Models/Testing_Logs/\" + str(uuid.uuid1()) + \".csv\"\n",
    "\n",
    "#Mean, STDEV of normalhese were chosen at random... Probably need to update these TODO\n",
    "mutation_params = [.5, 3]\n",
    "\n",
    "\n",
    "# TODO The likely hood of two chromosomes recombining is not currently dependent on \n",
    "#  CCN of those chromosomes.  It is equal across all sister-chromatids\n",
    "recombination_params = {\n",
    "    \"recombination_probability\": [3, .5] # The normal curve about mean that variation will happen\n",
    "}\n",
    "\n",
    "ccnv_params = {\n",
    "    \"variation_probability\": [0, 5], # The normal curve about mean that variation will happen\n",
    "    \"probability_of_pos\": 0.5 #likelyhood any change will be positive (inverse for neg)\n",
    "}\n",
    "\n",
    "nominal_max_generation_size = 600 # Arbitrary number of max cells in eacy generation\n",
    "\n",
    "#Mean and Std Deviation for the number of cells will die each generation\n",
    "# As a percentage of the total number of cells\n",
    "strain_death_rate_mean_percentage = 0.2\n",
    "\n",
    "metadata = {\n",
    "    \"mutation_mean_rate\": mutation_params[0],\n",
    "    \"mutation_mean_std\": mutation_params[1],\n",
    "    \"max_generation_size\": nominal_max_generation_size,\n",
    "    \"death_rate_percent\": strain_death_rate_mean_percentage,\n",
    "    \"date\": datetime.date.today(),\n",
    "    \"recombination_probability_mean\": recombination_params[\"recombination_probability\"][0],\n",
    "    \"recombination_probability_stdev\": recombination_params[\"recombination_probability\"][1],\n",
    "    \"ccnv_probability_mean\": ccnv_params[\"variation_probability\"][0],\n",
    "    \"ccnv_probability_mean\": ccnv_params[\"variation_probability\"][1],\n",
    "    \"ccnv_probability_of_increase\": ccnv_params[\"probability_of_pos\"]\n",
    "}\n",
    "\n",
    "#Debugging values for evaulating simulation speed\n",
    "total_print_elapsed_time = []\n",
    "total_generation_make_elapsed_time = []\n",
    "\n",
    "current_generation = [first_cell]\n",
    "total_cells = len(current_generation)\n",
    "cell_growth = [len(current_generation)]\n",
    "generation_size = [len(current_generation)]\n",
    "#Must write the first generation down (fence post problem)\n",
    "save_cells.write_generation_to_csv(current_generation, filename, metadata)\n",
    "\n",
    "\n",
    "\n",
    "for  i in tqdm(range(generations)):\n",
    "\n",
    "    # This incorperates cell death at some random constant rate\n",
    "    #if i != 0:\n",
    "    #    number_cells_to_die = round(len(current_generation) * strain_death_rate_mean_percentage)\n",
    "    #    #print(\"Number of Cells Death: \" + str(number_cells_to_die))\n",
    "    #    cells_to_die = random.sample(current_generation, number_cells_to_die)\n",
    "    #    for cell_to_die in cells_to_die:\n",
    "    #        current_generation.remove(cell_to_die)\n",
    "\n",
    "\n",
    "    # This is to manage the cells size.  It will grow exponentially foreveer unless\n",
    "    # We cap it at some value.   In reality this should probably forllow a sigmoidal \n",
    "    # Growth function based on density or something like that...  For now though we will\n",
    "    # just keep it to a sorta consistant size\n",
    "    if len(current_generation)*replications_per_generation >= nominal_max_generation_size:\n",
    "        replications_per_generation = 1#round(nominal_max_generation_size/len(current_generation))\n",
    "\n",
    "    #print(\"Number of reps per generation: \" + str(replications_per_generation))\n",
    "\n",
    "\n",
    "\n",
    "\n",
    "    new_generation = []\n",
    "    \n",
    "    # This is the start of the slow step\n",
    "    # To help speed it up slightly, Each parent cell will be reused in the second new generation\n",
    "    #       It will go through mutations etc like all the other cells and it's ID and Parent will\n",
    "    #       updated to make it look just like an new cell.  This will prevent making a bunch of new\n",
    "    #       objects each time which should speed up this process.  Be careful when modifying this\n",
    "    #       since it could easy mess up results if done incorrectly!\n",
    "    # if replications is set to zero then this whole step should be skipped...  Should never be zero\n",
    "    generation_make_start_time = datetime.datetime.now()\n",
    "    if replications_per_generation > 0:\n",
    "        #This removes 1 because 1 of the new cells will be the modified parent cell\n",
    "        num_new_cels = replications_per_generation - 1\n",
    "\n",
    "        for cel in current_generation:\n",
    "            #This has to happen first since re get the cell ID from the parent cell\n",
    "            new_cels = cell_functions.multiple_duplicates_with_UUID(cel, num_new_cels)\n",
    "            new_generation += new_cels\n",
    "\n",
    "            # Updates the parent cell to look like a new cell and adds it to the new_generation\n",
    "            # TOD THis will need to be updated so it changes all the IDs etc throughout the CELL to a new id.\n",
    "            # Also needs to clear the recombination events tracker in all the chromosomes\n",
    "            cel_id = cel.id #The current ID that will be changed and used as the parent\n",
    "            cel_new_id = uuid.uuid1() # The new id that will replace the old ID\n",
    "            cel.id = cel_new_id\n",
    "            cel.parent = cel_id\n",
    "            new_generation += [cel]\n",
    "    else:\n",
    "        warnings.warn(\"replications_per_generation is not > 0 which is unlikely\")\n",
    "    \n",
    "    if len(new_generation) < 0.5 * len(current_generation):\n",
    "        warnings.warn(\"The new generation is half the old generation.  This is not likely\")\n",
    "\n",
    "    # THis measures the elapsed time for creating the new generation for debugging info    \n",
    "    generation_make_end_time = datetime.datetime.now()\n",
    "    generation_elapsed_time = generation_make_end_time - generation_make_start_time\n",
    "    total_generation_make_elapsed_time.append(generation_elapsed_time)\n",
    "    #This is the end of the slow step\n",
    "\n",
    "\n",
    "    #========================================================================#\n",
    "    # THis is where we will mutate/recombinate/CCNV the new generation!\n",
    "    \n",
    "    #Does NOTHING right now.\n",
    "    cell_functions.recombinate_cells_norm(new_generation, recombination_params)\n",
    "\n",
    "    # TODO\n",
    "    #  Need to think on this.   I have the normal about zero.  Such that neg\n",
    "    # numbers are equally as likely as positive numbers.  Negs are considered teh same\n",
    "    #  as positive (e.g. abs(nrom))   THis makes a change twice as likely....\n",
    "    cell_functions.ccnv_cels_norm(new_generation, ccnv_params)\n",
    "\n",
    "\n",
    "\n",
    "    #THIS mutation rate is on a CELL number not on a \"GENOME SIZE\" level... TODO\n",
    "    cell_functions.point_mutate_cells_norm(new_generation, mutation_params)\n",
    "    #========================================================================#\n",
    "\n",
    "    # THis is when we stop and save the new generation!\n",
    "    # Time to save is measured for debugging purposes\n",
    "    # I have the data saved to a CSV at the end of every generation.  This is mostly so that if the simulation crashes\n",
    "    #      we will preserve the generations up to the crash.   It does use a pandas DF within the safe function.\n",
    "    #      but this pandas DF is deleted each \"Generation Loop\".   Although this is likely slower than just having a massice\n",
    "    #      dataframe I like it better because of the progress save.\n",
    "    print_start_time = datetime.datetime.now()\n",
    "    save_cells.write_generation_to_csv(new_generation, filename)\n",
    "    print_end_time = datetime.datetime.now()\n",
    "    print_elapsed_time = print_end_time - print_start_time\n",
    "    total_print_elapsed_time.append(print_elapsed_time)\n",
    "\n",
    "\n",
    "    total_cells += len(new_generation)\n",
    "    cell_growth.append(total_cells) # For figure later showing the population sizes\n",
    "    generation_size.append(len(new_generation))\n",
    "    current_generation = new_generation\n",
    "    #print(\"========================================\")\n",
    "    #print(\"\")\n",
    "    #print(\"\")\n",
    "print(\"Complete\")\n"
   ]
  },
  {
   "cell_type": "code",
   "execution_count": 25,
   "metadata": {},
   "outputs": [
    {
     "name": "stdout",
     "output_type": "stream",
     "text": [
      "0:00:00.000050\n"
     ]
    }
   ],
   "source": [
    "# Use dynamic or recursive programing\n",
    "now = datetime.datetime.now()\n",
    "print(datetime.datetime.now() - now)\n",
    " \n"
   ]
  },
  {
   "cell_type": "code",
   "execution_count": 26,
   "metadata": {},
   "outputs": [
    {
     "data": {
      "image/png": "[encoded data removed]",
      "text/plain": [
       "<Figure size 1000x500 with 1 Axes>"
      ]
     },
     "metadata": {},
     "output_type": "display_data"
    }
   ],
   "source": [
    "# Lets create a graph of the generations!\n",
    "\n",
    "generations = range(len(cell_growth))\n",
    "plt.figure(figsize=(10, 5))  # Set the figure size (optional)\n",
    "plt.plot(generations, cell_growth, marker='o')  # Plot x and y using a line plot with markers\n",
    "\n",
    "# Adding labels and title\n",
    "plt.xlabel('Generation ')\n",
    "plt.ylabel('Population Size (count)')\n",
    "plt.title('Pop Size vs Generation')\n",
    "\n",
    "# Show the plot\n",
    "plt.show()"
   ]
  },
  {
   "cell_type": "code",
   "execution_count": 27,
   "metadata": {},
   "outputs": [
    {
     "data": {
      "image/png": "[encoded data removed]",
      "text/plain": [
       "<Figure size 1000x500 with 1 Axes>"
      ]
     },
     "metadata": {},
     "output_type": "display_data"
    }
   ],
   "source": [
    "generations = range(len(generation_size))\n",
    "plt.figure(figsize=(10, 5))  # Set the figure size (optional)\n",
    "plt.plot(generations, generation_size, marker='o', label=\"Generation Size\")  # Plot x and y using a line plot with markers\n",
    "\n",
    "# Adding labels and title\n",
    "plt.xlabel('Generation')\n",
    "plt.ylabel('Generation Size (count)')\n",
    "plt.title('Generatio Size vs Generation')\n",
    "\n",
    "# Show the plot\n",
    "plt.show()"
   ]
  },
  {
   "cell_type": "code",
   "execution_count": 28,
   "metadata": {},
   "outputs": [
    {
     "data": {
      "image/png": "[encoded data removed]",
      "text/plain": [
       "<Figure size 1000x500 with 1 Axes>"
      ]
     },
     "metadata": {},
     "output_type": "display_data"
    }
   ],
   "source": [
    "generations = range(len(generation_size)-1)\n",
    "generations_s = [t.total_seconds() for t in total_generation_make_elapsed_time]\n",
    "print_s = [t.total_seconds() for t in total_print_elapsed_time]\n",
    "plt.figure(figsize=(10, 5))  # Set the figure size (optional)\n",
    "plt.plot(generations, generations_s, marker='o', label='Generation Creation Time')  # Plot x and y using a line plot with markers\n",
    "plt.plot(generations, print_s, marker='o', label=\"Print Time\")  # Plot x and y using a line plot with markers\n",
    "# Adding labels and title\n",
    "plt.legend()\n",
    "plt.xlabel('Generation')\n",
    "plt.ylabel('Elapsed Time (s)')\n",
    "plt.title('Elapsed time vs Generation')\n",
    "\n",
    "# Show the plot\n",
    "plt.show()"
   ]
  },
  {
   "cell_type": "markdown",
   "metadata": {},
   "source": [
    "m = total_generation_make_elapsed_time[1]\n"
   ]
  },
  {
   "cell_type": "code",
   "execution_count": 29,
   "metadata": {},
   "outputs": [
    {
     "name": "stdout",
     "output_type": "stream",
     "text": [
      "1.95862\n"
     ]
    }
   ],
   "source": [
    "m = total_generation_make_elapsed_time[1]\n",
    "print(m.total_seconds())"
   ]
  },
  {
   "cell_type": "markdown",
   "metadata": {},
   "source": [
    "Make the production rate be a decreasing density of the number of cells.   What is a common density dependance?"
   ]
  },
  {
   "cell_type": "code",
   "execution_count": 30,
   "metadata": {},
   "outputs": [],
   "source": [
    "cell_params = [\n",
    "    {\"chromo_length\" : 50, \"ave_gene_length\" : 5, \"chromo_count\" : 2}\n",
    "]\n",
    "testing_cell = cell_functions.create_basic_cell(cell_params, uuid.uuid1())\n",
    "\n",
    "\n",
    "#cell_functions.recombinate_random_chromatid(first_cell)"
   ]
  },
  {
   "cell_type": "code",
   "execution_count": 31,
   "metadata": {},
   "outputs": [
    {
     "name": "stdout",
     "output_type": "stream",
     "text": [
      "<cells.Cell object at 0x125bfedf0>\n",
      "[<sister_chromatids.sister_chromosomes object at 0x13fa1f670>]\n",
      "[<chromosome_class.chromosome object at 0x1324e4790>, <chromosome_class.chromosome object at 0x1411c08e0>]\n",
      "[<short_DNA_region_class.gene object at 0x125bfe6a0>, <short_DNA_region_class.gene object at 0x125bfe4f0>, <short_DNA_region_class.gene object at 0x125bfe4c0>, <short_DNA_region_class.gene object at 0x125bfe310>, <short_DNA_region_class.gene object at 0x126850940>, <short_DNA_region_class.gene object at 0x126850760>, <short_DNA_region_class.gene object at 0x1256247c0>]\n",
      "[<Bp.g: 3>, <Bp.a: 0>, <Bp.a: 0>, <Bp.a: 0>, <Bp.t: 1>, <Bp.t: 1>]\n"
     ]
    }
   ],
   "source": [
    "testing_cell.sequence_str()\n",
    "print(testing_cell)\n",
    "print(testing_cell.sister_chromatids)\n",
    "print(testing_cell.sister_chromatids[0].chromosomes)\n",
    "print(testing_cell.sister_chromatids[0].chromosomes[0].genes)\n",
    "print(testing_cell.sister_chromatids[0].chromosomes[0].genes[0].sequence)"
   ]
  },
  {
   "cell_type": "code",
   "execution_count": 32,
   "metadata": {},
   "outputs": [],
   "source": [
    "#testing_cell.sister_chromatids[0].chromosomes[0].genes[0] = gene([Bp('a'), Bp('a'), Bp('a')])\n",
    "#testing_cell.sequence_str()"
   ]
  },
  {
   "cell_type": "code",
   "execution_count": 33,
   "metadata": {},
   "outputs": [
    {
     "name": "stdout",
     "output_type": "stream",
     "text": [
      "[<chromosome_class.chromosome object at 0x1324e4790>, <chromosome_class.chromosome object at 0x1411c08e0>]\n"
     ]
    }
   ],
   "source": [
    "#print(testing_cell.sister_chromatids[0].chromosomes)\n",
    "print(testing_cell.sister_chromatids[0].chromosomes)\n",
    "cell_functions.recombinate_random_chromatid(testing_cell)\n",
    "#testing_cell.sequence_str()\n",
    "\n"
   ]
  },
  {
   "cell_type": "code",
   "execution_count": 34,
   "metadata": {},
   "outputs": [
    {
     "data": {
      "text/plain": [
       "[<chromosome_class.chromosome at 0x1324e4790>,\n",
       " <chromosome_class.chromosome at 0x1411c08e0>]"
      ]
     },
     "execution_count": 34,
     "metadata": {},
     "output_type": "execute_result"
    }
   ],
   "source": [
    "testing_cell.sister_chromatids[0].chromosomes\n"
   ]
  }
 ],
 "metadata": {
  "kernelspec": {
   "display_name": "Python 3",
   "language": "python",
   "name": "python3"
  },
  "language_info": {
   "codemirror_mode": {
    "name": "ipython",
    "version": 3
   },
   "file_extension": ".py",
   "mimetype": "text/x-python",
   "name": "python",
   "nbconvert_exporter": "python",
   "pygments_lexer": "ipython3",
   "version": "3.9.6"
  }
 },
 "nbformat": 4,
 "nbformat_minor": 2
}
