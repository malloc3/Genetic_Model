{
 "cells": [
  {
   "cell_type": "code",
   "execution_count": 370,
   "metadata": {},
   "outputs": [],
   "source": [
    "# It is quite frustrating but VS code wont reload imports without these comments\n",
    "%reload_ext autoreload\n",
    "%autoreload 2\n",
    "# You may could remove them... Not sure.\n",
    "\n",
    "import random\n",
    "from cells import *\n",
    "from bp_class import *\n",
    "from short_DNA_region_class import *\n",
    "from chromosome_class import *\n",
    "from sister_chromatids import *\n",
    "import dna_functions\n",
    "import sister_chromosome_functions\n",
    "import cell_functions\n",
    "import uuid\n",
    "import save_cells\n",
    "import numpy as np\n",
    "import matplotlib.pyplot as plt\n",
    "from tqdm import tqdm\n",
    "import datetime \n",
    "\n"
   ]
  },
  {
   "cell_type": "markdown",
   "metadata": {},
   "source": [
    "Alright We have our librarys for developing a cell with chromosomes.   Now lets build our first cell.  This cell will need a full gambit of chromosomes!  And these chromosomes need genes, and those genes need basepairs!!"
   ]
  },
  {
   "cell_type": "code",
   "execution_count": 371,
   "metadata": {},
   "outputs": [],
   "source": [
    "#first_chromo = dna_functions.make_baisc_chromosome(3000, 120)\n",
    "#first_sister_chromo = sister_chromosome_functions.basic_sister_chromatids_from_chromo(first_chromo, 3)"
   ]
  },
  {
   "cell_type": "code",
   "execution_count": 372,
   "metadata": {},
   "outputs": [],
   "source": [
    "cell_params = [\n",
    "    {\"chromo_length\" : 3000, \"ave_gene_length\" : 120, \"chromo_count\" : 2},\n",
    "    {\"chromo_length\" : 4000, \"ave_gene_length\" : 200, \"chromo_count\" : 3},\n",
    "    {\"chromo_length\" : 1000, \"ave_gene_length\" : 130, \"chromo_count\" : 1},\n",
    "    {\"chromo_length\" : 5000, \"ave_gene_length\" : 40, \"chromo_count\" : 6}\n",
    "]\n",
    "first_cell = cell_functions.create_basic_cell(cell_params, uuid.uuid1())"
   ]
  },
  {
   "cell_type": "markdown",
   "metadata": {},
   "source": [
    "Okay thus far we can create a cell and replicate it!  Kinda like a generation.   The cell is an exact copy of the parent cell.  There is no mutation capability yet or recombination.  However we can change the CCN of different chromosomes.    First though lets test out our cell and see if we can make a few generations and record those data in an effective way!"
   ]
  },
  {
   "cell_type": "code",
   "execution_count": 373,
   "metadata": {},
   "outputs": [
    {
     "name": "stdout",
     "output_type": "stream",
     "text": [
      "Created file '/Users/canonmallory/Library/Mobile Documents/com~apple~CloudDocs/Documents/Local_Only.nosync/School/Briggs Lab/CCNV/Genetic Models/Testing_Logs/644e38e0-08ef-11ef-b35e-acde48001122.csv'\n",
      "Generation: 0 Number_of_Members: 1\n"
     ]
    },
    {
     "name": "stderr",
     "output_type": "stream",
     "text": [
      "100%|██████████| 5/5 [00:48<00:00,  9.68s/it]"
     ]
    },
    {
     "name": "stdout",
     "output_type": "stream",
     "text": [
      "Complete\n"
     ]
    },
    {
     "name": "stderr",
     "output_type": "stream",
     "text": [
      "\n"
     ]
    }
   ],
   "source": [
    "generations = 5\n",
    "replications_per_generation = 4\n",
    "filename = \"/Users/canonmallory/Library/Mobile Documents/com~apple~CloudDocs/Documents/Local_Only.nosync/School/Briggs Lab/CCNV/Genetic Models/Testing_Logs/\" + str(uuid.uuid1()) + \".csv\"\n",
    "\n",
    "#Mean, STDEV of normalhese were chosen at random... Probably need to update these TODO\n",
    "mutation_params = [.5, 3]\n",
    "\n",
    "\n",
    "# TODO The likely hood of two chromosomes recombining is not currently dependent on \n",
    "#  CCN of those chromosomes.  It is equal across all sister-chromatids\n",
    "recombination_params = {\n",
    "    \"recombination_probability\": [3, .5] # The normal curve about mean that variation will happen\n",
    "}\n",
    "\n",
    "ccnv_params = {\n",
    "    \"variation_probability\": [0, 5], # The normal curve about mean that variation will happen\n",
    "    \"probability_of_pos\": 0.5 #likelyhood any change will be positive (inverse for neg)\n",
    "}\n",
    "\n",
    "nominal_max_generation_size = 600 # Arbitrary number of max cells in eacy generation\n",
    "\n",
    "#Mean and Std Deviation for the number of cells will die each generation\n",
    "# As a percentage of the total number of cells\n",
    "strain_death_rate_mean_percentage = 0.2\n",
    "\n",
    "metadata = {\n",
    "    \"mutation_mean_rate\": mutation_params[0],\n",
    "    \"mutation_mean_std\": mutation_params[1],\n",
    "    \"max_generation_size\": nominal_max_generation_size,\n",
    "    \"death_rate_percent\": strain_death_rate_mean_percentage,\n",
    "    \"date\": datetime.date.today()\n",
    "}\n",
    "\n",
    "\n",
    "current_generation = [first_cell]\n",
    "total_cells = len(current_generation)\n",
    "cell_growth = [len(current_generation)]\n",
    "generation_size = [len(current_generation)]\n",
    "recalc_generation_size = False\n",
    "#Must write the first generation down (fence post problem)\n",
    "save_cells.write_generation_to_csv(current_generation, filename, metadata)\n",
    "print(\"Generation: 0\" + \" Number_of_Members: \" + str(len(current_generation)))\n",
    "for  i in tqdm(range(generations)):\n",
    "\n",
    "    # This incorperates cell death at some random constant rate\n",
    "    if i != 0:\n",
    "        number_cells_to_die = round(len(current_generation) * strain_death_rate_mean_percentage)\n",
    "        #print(\"Number of Cells Death: \" + str(number_cells_to_die))\n",
    "        cells_to_die = random.sample(current_generation, number_cells_to_die)\n",
    "        for cell_to_die in cells_to_die:\n",
    "            current_generation.remove(cell_to_die)\n",
    "\n",
    "\n",
    "    # This is to manage the cells size.  It will grow exponentially foreveer unless\n",
    "    # We cap it at some value.   In reality this should probably forllow a sigmoidal \n",
    "    # Growth function based on density or something like that...  For now though we will\n",
    "    # just keep it to a sorta consistant size\n",
    "    if len(current_generation)*replications_per_generation >= nominal_max_generation_size:\n",
    "        recalc_generation_size = True\n",
    "    \n",
    "    if recalc_generation_size:\n",
    "        replications_per_generation = round(nominal_max_generation_size/len(current_generation))\n",
    "\n",
    "    #print(\"Number of reps per generation: \" + str(replications_per_generation))\n",
    "\n",
    "\n",
    "\n",
    "\n",
    "    new_generation = []\n",
    "    \n",
    "    # This is the start of the slow step\n",
    "    for cel in current_generation:\n",
    "        new_generation += cell_functions.multiple_duplicates_with_UUID(cel, replications_per_generation)\n",
    "    #This is the end of the slow step\n",
    "\n",
    "\n",
    "    #========================================================================#\n",
    "    # THis is where we will mutate/recombinate/CCNV the new generation!\n",
    "    \n",
    "    #Does NOTHING right now.\n",
    "    cell_functions.recombinate_cells_norm(new_generation, recombination_params)\n",
    "\n",
    "\n",
    "    # TODO\n",
    "    #  Need to think on this.   I have the normal about zero.  Such that neg\n",
    "    # numbers are equally as likely as positive numbers.  Negs are considered teh same\n",
    "    #  as positive (e.g. abs(nrom))   THis makes a change twice as likely....\n",
    "    cell_functions.ccnv_cels_norm(new_generation, ccnv_params)\n",
    "\n",
    "\n",
    "\n",
    "    #THIS mutation rate is on a CELL number not on a \"GENOME SIZE\" level... TODO\n",
    "    cell_functions.point_mutate_cells_norm(new_generation, mutation_params)\n",
    "    # THis is when we stop and save the new generation!\n",
    "    #========================================================================#\n",
    "\n",
    "\n",
    "    save_cells.write_generation_to_csv(new_generation, filename)\n",
    "\n",
    "\n",
    "    #print(\"Generation: \" + str(i + 1) + \" Number_of_Members: \" + str(len(new_generation)))\n",
    "    total_cells += len(new_generation)\n",
    "    cell_growth.append(total_cells) # For figure later showing the population sizes\n",
    "    generation_size.append(len(new_generation))\n",
    "    current_generation = new_generation\n",
    "    #print(\"========================================\")\n",
    "    #print(\"\")\n",
    "    #print(\"\")\n",
    "print(\"Complete\")\n"
   ]
  },
  {
   "cell_type": "code",
   "execution_count": null,
   "metadata": {},
   "outputs": [],
   "source": []
  },
  {
   "cell_type": "code",
   "execution_count": 374,
   "metadata": {},
   "outputs": [
    {
     "data": {
      "image/png": "[encoded data removed]",
      "text/plain": [
       "<Figure size 1000x500 with 1 Axes>"
      ]
     },
     "metadata": {},
     "output_type": "display_data"
    }
   ],
   "source": [
    "# Lets create a graph of the generations!\n",
    "\n",
    "generations = range(len(cell_growth))\n",
    "plt.figure(figsize=(10, 5))  # Set the figure size (optional)\n",
    "plt.plot(generations, cell_growth, marker='o')  # Plot x and y using a line plot with markers\n",
    "\n",
    "# Adding labels and title\n",
    "plt.xlabel('Generation')\n",
    "plt.ylabel('Population Size')\n",
    "plt.title('Generation')\n",
    "\n",
    "# Show the plot\n",
    "plt.show()"
   ]
  },
  {
   "cell_type": "code",
   "execution_count": 375,
   "metadata": {},
   "outputs": [
    {
     "data": {
      "image/png": "[encoded data removed]",
      "text/plain": [
       "<Figure size 1000x500 with 1 Axes>"
      ]
     },
     "metadata": {},
     "output_type": "display_data"
    }
   ],
   "source": [
    "generations = range(len(generation_size))\n",
    "plt.figure(figsize=(10, 5))  # Set the figure size (optional)\n",
    "plt.plot(generations, generation_size, marker='o')  # Plot x and y using a line plot with markers\n",
    "\n",
    "# Adding labels and title\n",
    "plt.xlabel('Generation')\n",
    "plt.ylabel('Generation Size')\n",
    "plt.title('Generation')\n",
    "\n",
    "# Show the plot\n",
    "plt.show()"
   ]
  },
  {
   "cell_type": "code",
   "execution_count": null,
   "metadata": {},
   "outputs": [],
   "source": []
  },
  {
   "cell_type": "code",
   "execution_count": 501,
   "metadata": {},
   "outputs": [],
   "source": [
    "cell_params = [\n",
    "    {\"chromo_length\" : 50, \"ave_gene_length\" : 5, \"chromo_count\" : 2}\n",
    "]\n",
    "testing_cell = cell_functions.create_basic_cell(cell_params, uuid.uuid1())\n",
    "\n",
    "\n",
    "#cell_functions.recombinate_random_chromatid(first_cell)"
   ]
  },
  {
   "cell_type": "code",
   "execution_count": 502,
   "metadata": {},
   "outputs": [
    {
     "name": "stdout",
     "output_type": "stream",
     "text": [
      "<cells.Cell object at 0x237738eb0>\n",
      "[<sister_chromatids.sister_chromosomes object at 0x325173b80>]\n",
      "[<chromosome_class.chromosome object at 0x235e8cd00>, <chromosome_class.chromosome object at 0x235e8c9a0>]\n",
      "[<short_DNA_region_class.gene object at 0x237738f40>, <short_DNA_region_class.gene object at 0x237738550>, <short_DNA_region_class.gene object at 0x184fc5e50>, <short_DNA_region_class.gene object at 0x154b1f190>, <short_DNA_region_class.gene object at 0x154b1fc40>, <short_DNA_region_class.gene object at 0x239023a60>, <short_DNA_region_class.gene object at 0x239023700>, <short_DNA_region_class.gene object at 0x2390234c0>]\n",
      "[<bp_class.Bp object at 0x237738fa0>, <bp_class.Bp object at 0x2377386d0>, <bp_class.Bp object at 0x237738820>, <bp_class.Bp object at 0x237738e50>, <bp_class.Bp object at 0x237738220>]\n"
     ]
    }
   ],
   "source": [
    "testing_cell.sequence_str()\n",
    "print(testing_cell)\n",
    "print(testing_cell.sister_chromatids)\n",
    "print(testing_cell.sister_chromatids[0].chromosomes)\n",
    "print(testing_cell.sister_chromatids[0].chromosomes[0].genes)\n",
    "print(testing_cell.sister_chromatids[0].chromosomes[0].genes[0].sequence)"
   ]
  },
  {
   "cell_type": "code",
   "execution_count": 503,
   "metadata": {},
   "outputs": [],
   "source": [
    "#testing_cell.sister_chromatids[0].chromosomes[0].genes[0] = gene([Bp('a'), Bp('a'), Bp('a')])\n",
    "#testing_cell.sequence_str()"
   ]
  },
  {
   "cell_type": "code",
   "execution_count": 504,
   "metadata": {},
   "outputs": [
    {
     "name": "stdout",
     "output_type": "stream",
     "text": [
      "[[['c', 'a', 'a', 'a', 'a', 'g', 'g', 'c', 't', 'a', 'g', 'c', 'g', 'c', 't', 'c', 't', 'g', 'a', 't', 'a', 't', 't', 'c', 'g', 't', 'a', 'g', 'c', 't', 'a', 'g', 'a', 't', 'g', 'g', 'a', 'a', 'a', 't', 't', 'c', 't', 'a'], ['c', 'a', 'a', 'a', 'a', 'g', 'g', 'c', 't', 'a', 'g', 'c', 'g', 'c', 't', 'c', 't', 'g', 'a', 't', 'a', 't', 't', 'c', 'g', 't', 'a', 'g', 'c', 't', 'a', 'g', 'a', 't', 'g', 'g', 'a', 'a', 'a', 't', 't', 'c', 't', 'a']]]\n",
      "<chromosome_class.chromosome object at 0x235e8cd00>\n",
      "<chromosome_class.chromosome object at 0x235e8c9a0>\n",
      "[<short_DNA_region_class.gene object at 0x237738f40>, <short_DNA_region_class.gene object at 0x237738550>, <short_DNA_region_class.gene object at 0x184fc5e50>, <short_DNA_region_class.gene object at 0x154b1f190>, <short_DNA_region_class.gene object at 0x154b1fc40>, <short_DNA_region_class.gene object at 0x239023a60>, <short_DNA_region_class.gene object at 0x239023700>, <short_DNA_region_class.gene object at 0x2390234c0>]\n",
      "[<short_DNA_region_class.gene object at 0x150dfaaf0>, <short_DNA_region_class.gene object at 0x150dfa2b0>, <short_DNA_region_class.gene object at 0x150dfa220>, <short_DNA_region_class.gene object at 0x150dfaee0>, <short_DNA_region_class.gene object at 0x150dfac10>, <short_DNA_region_class.gene object at 0x14e9bdc40>, <short_DNA_region_class.gene object at 0x14e9bdca0>, <short_DNA_region_class.gene object at 0x14e9bd460>]\n",
      "hello world\n",
      "[<short_DNA_region_class.gene object at 0x237738f40>, <short_DNA_region_class.gene object at 0x237738550>, <short_DNA_region_class.gene object at 0x14d8a0c70>, <short_DNA_region_class.gene object at 0x154b1f190>, <short_DNA_region_class.gene object at 0x154b1fc40>, <short_DNA_region_class.gene object at 0x239023a60>, <short_DNA_region_class.gene object at 0x239023700>, <short_DNA_region_class.gene object at 0x2390234c0>]\n",
      "[<short_DNA_region_class.gene object at 0x150dfaaf0>, <short_DNA_region_class.gene object at 0x150dfa2b0>, <short_DNA_region_class.gene object at 0x14d0543d0>, <short_DNA_region_class.gene object at 0x150dfaee0>, <short_DNA_region_class.gene object at 0x150dfac10>, <short_DNA_region_class.gene object at 0x14e9bdc40>, <short_DNA_region_class.gene object at 0x14e9bdca0>, <short_DNA_region_class.gene object at 0x14e9bd460>]\n"
     ]
    },
    {
     "data": {
      "text/plain": [
       "[[['c',\n",
       "   'a',\n",
       "   'a',\n",
       "   'a',\n",
       "   'a',\n",
       "   'g',\n",
       "   'g',\n",
       "   'c',\n",
       "   't',\n",
       "   'a',\n",
       "   'A',\n",
       "   'A',\n",
       "   'A',\n",
       "   'A',\n",
       "   'g',\n",
       "   'a',\n",
       "   't',\n",
       "   'a',\n",
       "   't',\n",
       "   't',\n",
       "   'c',\n",
       "   'g',\n",
       "   't',\n",
       "   'a',\n",
       "   'g',\n",
       "   'c',\n",
       "   't',\n",
       "   'a',\n",
       "   'g',\n",
       "   'a',\n",
       "   't',\n",
       "   'g',\n",
       "   'g',\n",
       "   'a',\n",
       "   'a',\n",
       "   'a',\n",
       "   't',\n",
       "   't',\n",
       "   'c',\n",
       "   't',\n",
       "   'a']]]"
      ]
     },
     "execution_count": 504,
     "metadata": {},
     "output_type": "execute_result"
    }
   ],
   "source": [
    "#print(testing_cell.sister_chromatids[0].chromosomes)\n",
    "print(testing_cell.sister_chromatids[0].chromosomes)\n",
    "cell_functions.recombinate_random_chromatid(testing_cell)\n",
    "#testing_cell.sequence_str()\n",
    "\n"
   ]
  },
  {
   "cell_type": "code",
   "execution_count": 505,
   "metadata": {},
   "outputs": [
    {
     "data": {
      "text/plain": [
       "[<chromosome_class.chromosome at 0x235e8c9a0>]"
      ]
     },
     "execution_count": 505,
     "metadata": {},
     "output_type": "execute_result"
    }
   ],
   "source": [
    "testing_cell.sister_chromatids[0].chromosomes\n"
   ]
  }
 ],
 "metadata": {
  "kernelspec": {
   "display_name": "Python 3",
   "language": "python",
   "name": "python3"
  },
  "language_info": {
   "codemirror_mode": {
    "name": "ipython",
    "version": 3
   },
   "file_extension": ".py",
   "mimetype": "text/x-python",
   "name": "python",
   "nbconvert_exporter": "python",
   "pygments_lexer": "ipython3",
   "version": "3.9.6"
  }
 },
 "nbformat": 4,
 "nbformat_minor": 2
}
